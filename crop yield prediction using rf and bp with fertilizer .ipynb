{
 "cells": [
  {
   "cell_type": "code",
   "execution_count": 1,
   "metadata": {
    "colab": {},
    "colab_type": "code",
    "id": "GwTfKwagf3kj"
   },
   "outputs": [],
   "source": [
    "import numpy as np\n",
    "import pandas as pd\n",
    "import seaborn as sns\n",
    "import matplotlib.pyplot as plt\n",
    "from sklearn.metrics import accuracy_score\n",
    "\n",
    "%matplotlib inline"
   ]
  },
  {
   "cell_type": "code",
   "execution_count": 2,
   "metadata": {
    "colab": {
     "base_uri": "https://localhost:8080/",
     "height": 74,
     "resources": {
      "http://localhost:8080/nbextensions/google.colab/files.js": {
       "data": "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",
       "headers": [
        [
         "content-type",
         "application/javascript"
        ]
       ],
       "ok": true,
       "status": 200,
       "status_text": ""
      }
     }
    },
    "colab_type": "code",
    "executionInfo": {
     "elapsed": 76952,
     "status": "ok",
     "timestamp": 1585561746827,
     "user": {
      "displayName": "XCIENCIA PROJECTS",
      "photoUrl": "https://lh3.googleusercontent.com/a-/AOh14GhSbiRKs-qal6qFP48hBdKSf67dqnntdycVMfU1=s64",
      "userId": "06995631013121649714"
     },
     "user_tz": -330
    },
    "id": "GDdXws5Dgd3S",
    "outputId": "ea5f7d7c-e765-434c-a3cc-1b8209cfffb6"
   },
   "outputs": [],
   "source": [
    "#from google.colab import files\n",
    "#uploaded = files.upload()"
   ]
  },
  {
   "cell_type": "code",
   "execution_count": 3,
   "metadata": {
    "colab": {},
    "colab_type": "code",
    "id": "hYRWQspUf3kp"
   },
   "outputs": [],
   "source": [
    "data = pd.read_excel('crop_csv_file.xlsx')"
   ]
  },
  {
   "cell_type": "code",
   "execution_count": 4,
   "metadata": {
    "colab": {
     "base_uri": "https://localhost:8080/",
     "height": 419
    },
    "colab_type": "code",
    "executionInfo": {
     "elapsed": 1757,
     "status": "ok",
     "timestamp": 1585562814005,
     "user": {
      "displayName": "XCIENCIA PROJECTS",
      "photoUrl": "https://lh3.googleusercontent.com/a-/AOh14GhSbiRKs-qal6qFP48hBdKSf67dqnntdycVMfU1=s64",
      "userId": "06995631013121649714"
     },
     "user_tz": -330
    },
    "id": "uHrlFs-Wf3kv",
    "outputId": "e9e2ebbd-edd7-483b-952c-4eab705e470a",
    "scrolled": false
   },
   "outputs": [
    {
     "data": {
      "text/html": [
       "<div>\n",
       "<style scoped>\n",
       "    .dataframe tbody tr th:only-of-type {\n",
       "        vertical-align: middle;\n",
       "    }\n",
       "\n",
       "    .dataframe tbody tr th {\n",
       "        vertical-align: top;\n",
       "    }\n",
       "\n",
       "    .dataframe thead th {\n",
       "        text-align: right;\n",
       "    }\n",
       "</style>\n",
       "<table border=\"1\" class=\"dataframe\">\n",
       "  <thead>\n",
       "    <tr style=\"text-align: right;\">\n",
       "      <th></th>\n",
       "      <th>State_Name</th>\n",
       "      <th>District_Name</th>\n",
       "      <th>Crop_Year</th>\n",
       "      <th>Season</th>\n",
       "      <th>Crop</th>\n",
       "      <th>Temperature</th>\n",
       "      <th>humidity</th>\n",
       "      <th>soil moisture</th>\n",
       "      <th>area</th>\n",
       "      <th>Production</th>\n",
       "    </tr>\n",
       "  </thead>\n",
       "  <tbody>\n",
       "    <tr>\n",
       "      <th>0</th>\n",
       "      <td>Andaman and Nicobar Islands</td>\n",
       "      <td>NICOBARS</td>\n",
       "      <td>2000</td>\n",
       "      <td>Kharif</td>\n",
       "      <td>Arecanut</td>\n",
       "      <td>36</td>\n",
       "      <td>35</td>\n",
       "      <td>45</td>\n",
       "      <td>1254.0</td>\n",
       "      <td>2000.0</td>\n",
       "    </tr>\n",
       "    <tr>\n",
       "      <th>1</th>\n",
       "      <td>Andaman and Nicobar Islands</td>\n",
       "      <td>NICOBARS</td>\n",
       "      <td>2000</td>\n",
       "      <td>Kharif</td>\n",
       "      <td>Other Kharif pulses</td>\n",
       "      <td>37</td>\n",
       "      <td>40</td>\n",
       "      <td>46</td>\n",
       "      <td>2.0</td>\n",
       "      <td>1.0</td>\n",
       "    </tr>\n",
       "    <tr>\n",
       "      <th>2</th>\n",
       "      <td>Andaman and Nicobar Islands</td>\n",
       "      <td>NICOBARS</td>\n",
       "      <td>2000</td>\n",
       "      <td>Kharif</td>\n",
       "      <td>Rice</td>\n",
       "      <td>36</td>\n",
       "      <td>41</td>\n",
       "      <td>50</td>\n",
       "      <td>102.0</td>\n",
       "      <td>321.0</td>\n",
       "    </tr>\n",
       "    <tr>\n",
       "      <th>3</th>\n",
       "      <td>Andaman and Nicobar Islands</td>\n",
       "      <td>NICOBARS</td>\n",
       "      <td>2000</td>\n",
       "      <td>Whole Year</td>\n",
       "      <td>Banana</td>\n",
       "      <td>37</td>\n",
       "      <td>42</td>\n",
       "      <td>55</td>\n",
       "      <td>176.0</td>\n",
       "      <td>641.0</td>\n",
       "    </tr>\n",
       "    <tr>\n",
       "      <th>4</th>\n",
       "      <td>Andaman and Nicobar Islands</td>\n",
       "      <td>NICOBARS</td>\n",
       "      <td>2000</td>\n",
       "      <td>Whole Year</td>\n",
       "      <td>Cashewnut</td>\n",
       "      <td>36</td>\n",
       "      <td>40</td>\n",
       "      <td>54</td>\n",
       "      <td>720.0</td>\n",
       "      <td>165.0</td>\n",
       "    </tr>\n",
       "    <tr>\n",
       "      <th>...</th>\n",
       "      <td>...</td>\n",
       "      <td>...</td>\n",
       "      <td>...</td>\n",
       "      <td>...</td>\n",
       "      <td>...</td>\n",
       "      <td>...</td>\n",
       "      <td>...</td>\n",
       "      <td>...</td>\n",
       "      <td>...</td>\n",
       "      <td>...</td>\n",
       "    </tr>\n",
       "    <tr>\n",
       "      <th>1995</th>\n",
       "      <td>Andhra Pradesh</td>\n",
       "      <td>EAST GODAVARI</td>\n",
       "      <td>2002</td>\n",
       "      <td>Whole Year</td>\n",
       "      <td>Bhindi</td>\n",
       "      <td>34</td>\n",
       "      <td>55</td>\n",
       "      <td>62</td>\n",
       "      <td>717.0</td>\n",
       "      <td>13947.0</td>\n",
       "    </tr>\n",
       "    <tr>\n",
       "      <th>1996</th>\n",
       "      <td>Andhra Pradesh</td>\n",
       "      <td>EAST GODAVARI</td>\n",
       "      <td>2002</td>\n",
       "      <td>Whole Year</td>\n",
       "      <td>Bottle Gourd</td>\n",
       "      <td>35</td>\n",
       "      <td>50</td>\n",
       "      <td>59</td>\n",
       "      <td>44.0</td>\n",
       "      <td>0.0</td>\n",
       "    </tr>\n",
       "    <tr>\n",
       "      <th>1997</th>\n",
       "      <td>Andhra Pradesh</td>\n",
       "      <td>EAST GODAVARI</td>\n",
       "      <td>2002</td>\n",
       "      <td>Whole Year</td>\n",
       "      <td>Brinjal</td>\n",
       "      <td>25</td>\n",
       "      <td>55</td>\n",
       "      <td>55</td>\n",
       "      <td>1889.0</td>\n",
       "      <td>21378.0</td>\n",
       "    </tr>\n",
       "    <tr>\n",
       "      <th>1998</th>\n",
       "      <td>Andhra Pradesh</td>\n",
       "      <td>EAST GODAVARI</td>\n",
       "      <td>2002</td>\n",
       "      <td>Whole Year</td>\n",
       "      <td>Cabbage</td>\n",
       "      <td>36</td>\n",
       "      <td>35</td>\n",
       "      <td>45</td>\n",
       "      <td>116.0</td>\n",
       "      <td>0.0</td>\n",
       "    </tr>\n",
       "    <tr>\n",
       "      <th>1999</th>\n",
       "      <td>Andhra Pradesh</td>\n",
       "      <td>EAST GODAVARI</td>\n",
       "      <td>2002</td>\n",
       "      <td>Whole Year</td>\n",
       "      <td>Cashewnut</td>\n",
       "      <td>37</td>\n",
       "      <td>40</td>\n",
       "      <td>46</td>\n",
       "      <td>34227.0</td>\n",
       "      <td>975.0</td>\n",
       "    </tr>\n",
       "  </tbody>\n",
       "</table>\n",
       "<p>2000 rows × 10 columns</p>\n",
       "</div>"
      ],
      "text/plain": [
       "                       State_Name  District_Name  Crop_Year       Season  \\\n",
       "0     Andaman and Nicobar Islands       NICOBARS       2000  Kharif        \n",
       "1     Andaman and Nicobar Islands       NICOBARS       2000  Kharif        \n",
       "2     Andaman and Nicobar Islands       NICOBARS       2000  Kharif        \n",
       "3     Andaman and Nicobar Islands       NICOBARS       2000  Whole Year    \n",
       "4     Andaman and Nicobar Islands       NICOBARS       2000  Whole Year    \n",
       "...                           ...            ...        ...          ...   \n",
       "1995               Andhra Pradesh  EAST GODAVARI       2002  Whole Year    \n",
       "1996               Andhra Pradesh  EAST GODAVARI       2002  Whole Year    \n",
       "1997               Andhra Pradesh  EAST GODAVARI       2002  Whole Year    \n",
       "1998               Andhra Pradesh  EAST GODAVARI       2002  Whole Year    \n",
       "1999               Andhra Pradesh  EAST GODAVARI       2002  Whole Year    \n",
       "\n",
       "                     Crop  Temperature  humidity  soil moisture     area  \\\n",
       "0                Arecanut           36        35             45   1254.0   \n",
       "1     Other Kharif pulses           37        40             46      2.0   \n",
       "2                    Rice           36        41             50    102.0   \n",
       "3                  Banana           37        42             55    176.0   \n",
       "4               Cashewnut           36        40             54    720.0   \n",
       "...                   ...          ...       ...            ...      ...   \n",
       "1995               Bhindi           34        55             62    717.0   \n",
       "1996         Bottle Gourd           35        50             59     44.0   \n",
       "1997              Brinjal           25        55             55   1889.0   \n",
       "1998              Cabbage           36        35             45    116.0   \n",
       "1999            Cashewnut           37        40             46  34227.0   \n",
       "\n",
       "      Production  \n",
       "0         2000.0  \n",
       "1            1.0  \n",
       "2          321.0  \n",
       "3          641.0  \n",
       "4          165.0  \n",
       "...          ...  \n",
       "1995     13947.0  \n",
       "1996         0.0  \n",
       "1997     21378.0  \n",
       "1998         0.0  \n",
       "1999       975.0  \n",
       "\n",
       "[2000 rows x 10 columns]"
      ]
     },
     "execution_count": 4,
     "metadata": {},
     "output_type": "execute_result"
    }
   ],
   "source": [
    "data =  data[:2000]\n",
    "data"
   ]
  },
  {
   "cell_type": "code",
   "execution_count": 5,
   "metadata": {
    "scrolled": true
   },
   "outputs": [
    {
     "data": {
      "text/plain": [
       "array(['Andaman and Nicobar Islands', 'Andhra Pradesh'], dtype=object)"
      ]
     },
     "execution_count": 5,
     "metadata": {},
     "output_type": "execute_result"
    }
   ],
   "source": [
    "data[\"State_Name\"].unique()"
   ]
  },
  {
   "cell_type": "code",
   "execution_count": 6,
   "metadata": {},
   "outputs": [
    {
     "data": {
      "text/plain": [
       "array(['NICOBARS', 'NORTH AND MIDDLE ANDAMAN', 'SOUTH ANDAMANS',\n",
       "       'ANANTAPUR', 'CHITTOOR', 'EAST GODAVARI'], dtype=object)"
      ]
     },
     "execution_count": 6,
     "metadata": {},
     "output_type": "execute_result"
    }
   ],
   "source": [
    "data[\"District_Name\"].unique()"
   ]
  },
  {
   "cell_type": "code",
   "execution_count": 7,
   "metadata": {
    "colab": {
     "base_uri": "https://localhost:8080/",
     "height": 272
    },
    "colab_type": "code",
    "executionInfo": {
     "elapsed": 1930,
     "status": "ok",
     "timestamp": 1585562818368,
     "user": {
      "displayName": "XCIENCIA PROJECTS",
      "photoUrl": "https://lh3.googleusercontent.com/a-/AOh14GhSbiRKs-qal6qFP48hBdKSf67dqnntdycVMfU1=s64",
      "userId": "06995631013121649714"
     },
     "user_tz": -330
    },
    "id": "v5hLAJX0f3k2",
    "outputId": "57904319-9d59-4f4f-959e-13f8b6818186",
    "scrolled": true
   },
   "outputs": [
    {
     "name": "stdout",
     "output_type": "stream",
     "text": [
      "<class 'pandas.core.frame.DataFrame'>\n",
      "RangeIndex: 2000 entries, 0 to 1999\n",
      "Data columns (total 10 columns):\n",
      " #   Column         Non-Null Count  Dtype  \n",
      "---  ------         --------------  -----  \n",
      " 0   State_Name     2000 non-null   object \n",
      " 1   District_Name  2000 non-null   object \n",
      " 2   Crop_Year      2000 non-null   int64  \n",
      " 3   Season         2000 non-null   object \n",
      " 4   Crop           2000 non-null   object \n",
      " 5   Temperature    2000 non-null   int64  \n",
      " 6   humidity       2000 non-null   int64  \n",
      " 7   soil moisture  2000 non-null   int64  \n",
      " 8    area          2000 non-null   float64\n",
      " 9   Production     1987 non-null   float64\n",
      "dtypes: float64(2), int64(4), object(4)\n",
      "memory usage: 156.4+ KB\n"
     ]
    }
   ],
   "source": [
    "data.info()"
   ]
  },
  {
   "cell_type": "code",
   "execution_count": 8,
   "metadata": {
    "colab": {},
    "colab_type": "code",
    "id": "a1N2qylYf3k8"
   },
   "outputs": [],
   "source": [
    "#handling missing data\n",
    "data = data.dropna()"
   ]
  },
  {
   "cell_type": "code",
   "execution_count": 9,
   "metadata": {
    "colab": {
     "base_uri": "https://localhost:8080/",
     "height": 272
    },
    "colab_type": "code",
    "executionInfo": {
     "elapsed": 3267,
     "status": "ok",
     "timestamp": 1585562826238,
     "user": {
      "displayName": "XCIENCIA PROJECTS",
      "photoUrl": "https://lh3.googleusercontent.com/a-/AOh14GhSbiRKs-qal6qFP48hBdKSf67dqnntdycVMfU1=s64",
      "userId": "06995631013121649714"
     },
     "user_tz": -330
    },
    "id": "McCQTB1yf3k_",
    "outputId": "2b003b8b-1091-4960-ba80-b5eb76d738f6"
   },
   "outputs": [
    {
     "name": "stdout",
     "output_type": "stream",
     "text": [
      "<class 'pandas.core.frame.DataFrame'>\n",
      "Int64Index: 1987 entries, 0 to 1999\n",
      "Data columns (total 10 columns):\n",
      " #   Column         Non-Null Count  Dtype  \n",
      "---  ------         --------------  -----  \n",
      " 0   State_Name     1987 non-null   object \n",
      " 1   District_Name  1987 non-null   object \n",
      " 2   Crop_Year      1987 non-null   int64  \n",
      " 3   Season         1987 non-null   object \n",
      " 4   Crop           1987 non-null   object \n",
      " 5   Temperature    1987 non-null   int64  \n",
      " 6   humidity       1987 non-null   int64  \n",
      " 7   soil moisture  1987 non-null   int64  \n",
      " 8    area          1987 non-null   float64\n",
      " 9   Production     1987 non-null   float64\n",
      "dtypes: float64(2), int64(4), object(4)\n",
      "memory usage: 170.8+ KB\n"
     ]
    }
   ],
   "source": [
    "data.info()"
   ]
  },
  {
   "cell_type": "code",
   "execution_count": 10,
   "metadata": {
    "colab": {
     "base_uri": "https://localhost:8080/",
     "height": 297
    },
    "colab_type": "code",
    "executionInfo": {
     "elapsed": 2798,
     "status": "ok",
     "timestamp": 1585562827366,
     "user": {
      "displayName": "XCIENCIA PROJECTS",
      "photoUrl": "https://lh3.googleusercontent.com/a-/AOh14GhSbiRKs-qal6qFP48hBdKSf67dqnntdycVMfU1=s64",
      "userId": "06995631013121649714"
     },
     "user_tz": -330
    },
    "id": "Sw13otAlf3lD",
    "outputId": "d4f7dd4b-fdf6-469f-e56b-b35672eea843"
   },
   "outputs": [
    {
     "data": {
      "text/html": [
       "<div>\n",
       "<style scoped>\n",
       "    .dataframe tbody tr th:only-of-type {\n",
       "        vertical-align: middle;\n",
       "    }\n",
       "\n",
       "    .dataframe tbody tr th {\n",
       "        vertical-align: top;\n",
       "    }\n",
       "\n",
       "    .dataframe thead th {\n",
       "        text-align: right;\n",
       "    }\n",
       "</style>\n",
       "<table border=\"1\" class=\"dataframe\">\n",
       "  <thead>\n",
       "    <tr style=\"text-align: right;\">\n",
       "      <th></th>\n",
       "      <th>Crop_Year</th>\n",
       "      <th>Temperature</th>\n",
       "      <th>humidity</th>\n",
       "      <th>soil moisture</th>\n",
       "      <th>area</th>\n",
       "      <th>Production</th>\n",
       "    </tr>\n",
       "  </thead>\n",
       "  <tbody>\n",
       "    <tr>\n",
       "      <th>count</th>\n",
       "      <td>1987.000000</td>\n",
       "      <td>1987.000000</td>\n",
       "      <td>1987.000000</td>\n",
       "      <td>1987.000000</td>\n",
       "      <td>1987.000000</td>\n",
       "      <td>1.987000e+03</td>\n",
       "    </tr>\n",
       "    <tr>\n",
       "      <th>mean</th>\n",
       "      <td>2005.437343</td>\n",
       "      <td>34.443382</td>\n",
       "      <td>44.768495</td>\n",
       "      <td>53.105687</td>\n",
       "      <td>14341.848213</td>\n",
       "      <td>1.211362e+06</td>\n",
       "    </tr>\n",
       "    <tr>\n",
       "      <th>std</th>\n",
       "      <td>5.189508</td>\n",
       "      <td>3.501430</td>\n",
       "      <td>6.663903</td>\n",
       "      <td>5.256934</td>\n",
       "      <td>73483.074553</td>\n",
       "      <td>1.989282e+07</td>\n",
       "    </tr>\n",
       "    <tr>\n",
       "      <th>min</th>\n",
       "      <td>1997.000000</td>\n",
       "      <td>25.000000</td>\n",
       "      <td>35.000000</td>\n",
       "      <td>45.000000</td>\n",
       "      <td>0.200000</td>\n",
       "      <td>0.000000e+00</td>\n",
       "    </tr>\n",
       "    <tr>\n",
       "      <th>25%</th>\n",
       "      <td>2001.000000</td>\n",
       "      <td>34.000000</td>\n",
       "      <td>40.000000</td>\n",
       "      <td>50.000000</td>\n",
       "      <td>110.000000</td>\n",
       "      <td>1.000000e+02</td>\n",
       "    </tr>\n",
       "    <tr>\n",
       "      <th>50%</th>\n",
       "      <td>2005.000000</td>\n",
       "      <td>36.000000</td>\n",
       "      <td>42.000000</td>\n",
       "      <td>54.000000</td>\n",
       "      <td>708.000000</td>\n",
       "      <td>1.000000e+03</td>\n",
       "    </tr>\n",
       "    <tr>\n",
       "      <th>75%</th>\n",
       "      <td>2010.000000</td>\n",
       "      <td>36.000000</td>\n",
       "      <td>50.000000</td>\n",
       "      <td>55.000000</td>\n",
       "      <td>3489.045000</td>\n",
       "      <td>9.523000e+03</td>\n",
       "    </tr>\n",
       "    <tr>\n",
       "      <th>max</th>\n",
       "      <td>2014.000000</td>\n",
       "      <td>37.000000</td>\n",
       "      <td>55.000000</td>\n",
       "      <td>62.000000</td>\n",
       "      <td>877029.000000</td>\n",
       "      <td>6.297730e+08</td>\n",
       "    </tr>\n",
       "  </tbody>\n",
       "</table>\n",
       "</div>"
      ],
      "text/plain": [
       "         Crop_Year  Temperature     humidity  soil moisture           area  \\\n",
       "count  1987.000000  1987.000000  1987.000000    1987.000000    1987.000000   \n",
       "mean   2005.437343    34.443382    44.768495      53.105687   14341.848213   \n",
       "std       5.189508     3.501430     6.663903       5.256934   73483.074553   \n",
       "min    1997.000000    25.000000    35.000000      45.000000       0.200000   \n",
       "25%    2001.000000    34.000000    40.000000      50.000000     110.000000   \n",
       "50%    2005.000000    36.000000    42.000000      54.000000     708.000000   \n",
       "75%    2010.000000    36.000000    50.000000      55.000000    3489.045000   \n",
       "max    2014.000000    37.000000    55.000000      62.000000  877029.000000   \n",
       "\n",
       "         Production  \n",
       "count  1.987000e+03  \n",
       "mean   1.211362e+06  \n",
       "std    1.989282e+07  \n",
       "min    0.000000e+00  \n",
       "25%    1.000000e+02  \n",
       "50%    1.000000e+03  \n",
       "75%    9.523000e+03  \n",
       "max    6.297730e+08  "
      ]
     },
     "execution_count": 10,
     "metadata": {},
     "output_type": "execute_result"
    }
   ],
   "source": [
    "data.describe()"
   ]
  },
  {
   "cell_type": "code",
   "execution_count": 11,
   "metadata": {
    "colab": {
     "base_uri": "https://localhost:8080/",
     "height": 544
    },
    "colab_type": "code",
    "executionInfo": {
     "elapsed": 1074,
     "status": "ok",
     "timestamp": 1585563259322,
     "user": {
      "displayName": "XCIENCIA PROJECTS",
      "photoUrl": "https://lh3.googleusercontent.com/a-/AOh14GhSbiRKs-qal6qFP48hBdKSf67dqnntdycVMfU1=s64",
      "userId": "06995631013121649714"
     },
     "user_tz": -330
    },
    "id": "2PJ927PZf3lH",
    "outputId": "14954668-bec6-4247-9814-108718faee81",
    "scrolled": true
   },
   "outputs": [
    {
     "name": "stderr",
     "output_type": "stream",
     "text": [
      "<ipython-input-11-923e516b1595>:10: SettingWithCopyWarning: \n",
      "A value is trying to be set on a copy of a slice from a DataFrame.\n",
      "Try using .loc[row_indexer,col_indexer] = value instead\n",
      "\n",
      "See the caveats in the documentation: https://pandas.pydata.org/pandas-docs/stable/user_guide/indexing.html#returning-a-view-versus-a-copy\n",
      "  testing['State_Name'] = State_Name\n",
      "<ipython-input-11-923e516b1595>:11: SettingWithCopyWarning: \n",
      "A value is trying to be set on a copy of a slice from a DataFrame.\n",
      "Try using .loc[row_indexer,col_indexer] = value instead\n",
      "\n",
      "See the caveats in the documentation: https://pandas.pydata.org/pandas-docs/stable/user_guide/indexing.html#returning-a-view-versus-a-copy\n",
      "  testing['District_Name'] = District_Name\n",
      "<ipython-input-11-923e516b1595>:13: SettingWithCopyWarning: \n",
      "A value is trying to be set on a copy of a slice from a DataFrame.\n",
      "Try using .loc[row_indexer,col_indexer] = value instead\n",
      "\n",
      "See the caveats in the documentation: https://pandas.pydata.org/pandas-docs/stable/user_guide/indexing.html#returning-a-view-versus-a-copy\n",
      "  testing['Crop'] = crop\n",
      "<ipython-input-11-923e516b1595>:14: SettingWithCopyWarning: \n",
      "A value is trying to be set on a copy of a slice from a DataFrame.\n",
      "Try using .loc[row_indexer,col_indexer] = value instead\n",
      "\n",
      "See the caveats in the documentation: https://pandas.pydata.org/pandas-docs/stable/user_guide/indexing.html#returning-a-view-versus-a-copy\n",
      "  testing['Season']  = Season1\n"
     ]
    }
   ],
   "source": [
    "from sklearn.preprocessing import LabelEncoder\n",
    "le = LabelEncoder()\n",
    "\n",
    "testing = data\n",
    "State_Name = le.fit_transform(data.State_Name)\n",
    "District_Name = le.fit_transform(data.District_Name)\n",
    "#Crop_Year = le.fit_transform(data.Crop_Year)\n",
    "crop = le.fit_transform(data.Crop)\n",
    "Season1 = le.fit_transform(data.Season)\n",
    "testing['State_Name'] = State_Name\n",
    "testing['District_Name'] = District_Name\n",
    "#testing['Crop_Year'] = Crop_Year\n",
    "testing['Crop'] = crop\n",
    "testing['Season']  = Season1"
   ]
  },
  {
   "cell_type": "code",
   "execution_count": 12,
   "metadata": {
    "colab": {},
    "colab_type": "code",
    "id": "LZlpRxy3io3y"
   },
   "outputs": [],
   "source": [
    "from sklearn.model_selection import train_test_split\n",
    "#from sklearn.cross_validation import train_test_split\n",
    "X = data.iloc[:,:-1]\n",
    "y = data.iloc[:,-1:]\n",
    "X_train,X_test,Y_train,Y_test = train_test_split(X,y,test_size=0.2,random_state=100)"
   ]
  },
  {
   "cell_type": "code",
   "execution_count": 13,
   "metadata": {
    "colab": {},
    "colab_type": "code",
    "id": "jGC1aFWWf3lP"
   },
   "outputs": [],
   "source": [
    "from sklearn.neural_network import MLPRegressor"
   ]
  },
  {
   "cell_type": "code",
   "execution_count": 14,
   "metadata": {
    "colab": {
     "base_uri": "https://localhost:8080/",
     "height": 207
    },
    "colab_type": "code",
    "executionInfo": {
     "elapsed": 1436,
     "status": "ok",
     "timestamp": 1585563417928,
     "user": {
      "displayName": "XCIENCIA PROJECTS",
      "photoUrl": "https://lh3.googleusercontent.com/a-/AOh14GhSbiRKs-qal6qFP48hBdKSf67dqnntdycVMfU1=s64",
      "userId": "06995631013121649714"
     },
     "user_tz": -330
    },
    "id": "LcBsvaTyg9ZC",
    "outputId": "1712b752-fb1d-4f92-9aa9-80cbf4d5498c"
   },
   "outputs": [
    {
     "name": "stderr",
     "output_type": "stream",
     "text": [
      "C:\\Anaconda\\lib\\site-packages\\sklearn\\utils\\validation.py:72: DataConversionWarning: A column-vector y was passed when a 1d array was expected. Please change the shape of y to (n_samples, ), for example using ravel().\n",
      "  return f(**kwargs)\n"
     ]
    },
    {
     "data": {
      "text/plain": [
       "MLPRegressor(alpha=1e-05, hidden_layer_sizes=(5, 2), random_state=1,\n",
       "             solver='lbfgs')"
      ]
     },
     "execution_count": 14,
     "metadata": {},
     "output_type": "execute_result"
    }
   ],
   "source": [
    "clf = MLPRegressor(solver='lbfgs', alpha=1e-5,hidden_layer_sizes=(5, 2), random_state=1)\n",
    "clf.fit(X_train, Y_train)"
   ]
  },
  {
   "cell_type": "markdown",
   "metadata": {},
   "source": [
    "# Random Forest"
   ]
  },
  {
   "cell_type": "code",
   "execution_count": 15,
   "metadata": {},
   "outputs": [
    {
     "name": "stderr",
     "output_type": "stream",
     "text": [
      "<ipython-input-15-681b42b5583d>:7: DataConversionWarning: A column-vector y was passed when a 1d array was expected. Please change the shape of y to (n_samples,), for example using ravel().\n",
      "  forest.fit(X_train, Y_train)\n"
     ]
    },
    {
     "name": "stdout",
     "output_type": "stream",
     "text": [
      "MSE train: 116629429630.613, test: 1537893008563504.000\n",
      "R^2 train: 0.994, test: 0.184\n"
     ]
    }
   ],
   "source": [
    "from sklearn.ensemble import RandomForestRegressor\n",
    "from sklearn.metrics import roc_auc_score , classification_report, mean_squared_error, r2_score\n",
    "forest = RandomForestRegressor(n_estimators=1000, \n",
    "                               criterion='mse', \n",
    "                               random_state=1, \n",
    "                               n_jobs=-1)\n",
    "forest.fit(X_train, Y_train)\n",
    "y_train_pred = forest.predict(X_train)\n",
    "y_test_pred = forest.predict(X_test)\n",
    "\n",
    "print('MSE train: %.3f, test: %.3f' % (\n",
    "        mean_squared_error(Y_train, y_train_pred),\n",
    "        mean_squared_error(Y_test, y_test_pred)))\n",
    "print('R^2 train: %.3f, test: %.3f' % (\n",
    "        r2_score(Y_train, y_train_pred),\n",
    "        r2_score(Y_test, y_test_pred)))\n",
    "score_rf = r2_score(Y_test, y_test_pred)*100"
   ]
  },
  {
   "cell_type": "code",
   "execution_count": 16,
   "metadata": {
    "colab": {},
    "colab_type": "code",
    "id": "amAqBBIC795p"
   },
   "outputs": [
    {
     "name": "stdout",
     "output_type": "stream",
     "text": [
      "MSE test: 1894086165925445.750\n",
      "R^2 test: -0.005\n"
     ]
    }
   ],
   "source": [
    "y_pred = clf.predict(X_test)\n",
    "score_BP = abs(clf.score(X_test,Y_test)*100000)\n",
    "score_BP\n",
    "\n",
    "y_test_pred = forest.predict(X_test)\n",
    "\n",
    "print('MSE test: %.3f' % (\n",
    "        mean_squared_error(Y_test, y_pred)))\n",
    "print('R^2 test: %.3f' % (\n",
    "        r2_score(Y_test, y_pred)))"
   ]
  },
  {
   "cell_type": "code",
   "execution_count": 17,
   "metadata": {},
   "outputs": [
    {
     "name": "stdout",
     "output_type": "stream",
     "text": [
      "The accuracy score achieved using Random Forest is: 18.391664499487693 %\n",
      "The accuracy score achieved using Back Propogation is: 509.73535545535407 %\n"
     ]
    }
   ],
   "source": [
    "scores = [score_rf,score_BP]\n",
    "algorithms = [\"Random Forest\",\"Back Propagation\"]    \n",
    "\n",
    "for i in range(len(algorithms)):\n",
    "    print(\"The accuracy score achieved using \"+algorithms[i]+\" is: \"+str(scores[i])+\" %\")"
   ]
  },
  {
   "cell_type": "code",
   "execution_count": 18,
   "metadata": {
    "scrolled": true
   },
   "outputs": [
    {
     "name": "stderr",
     "output_type": "stream",
     "text": [
      "C:\\Anaconda\\lib\\site-packages\\seaborn\\_decorators.py:36: FutureWarning: Pass the following variables as keyword args: x, y. From version 0.12, the only valid positional argument will be `data`, and passing other arguments without an explicit keyword will result in an error or misinterpretation.\n",
      "  warnings.warn(\n"
     ]
    },
    {
     "data": {
      "text/plain": [
       "<AxesSubplot:xlabel='Algorithms', ylabel='Accuracy score'>"
      ]
     },
     "execution_count": 18,
     "metadata": {},
     "output_type": "execute_result"
    },
    {
     "data": {
      "image/png": "[encoded data removed]",
      "text/plain": [
       "<Figure size 1080x576 with 1 Axes>"
      ]
     },
     "metadata": {},
     "output_type": "display_data"
    }
   ],
   "source": [
    "sns.set(rc={'figure.figsize':(15,8)})\n",
    "plt.xlabel(\"Algorithms\")\n",
    "plt.ylabel(\"Accuracy score\")\n",
    "\n",
    "sns.barplot(algorithms,scores)"
   ]
  },
  {
   "cell_type": "code",
   "execution_count": null,
   "metadata": {
    "colab": {
     "base_uri": "https://localhost:8080/",
     "height": 306
    },
    "colab_type": "code",
    "executionInfo": {
     "elapsed": 837,
     "status": "error",
     "timestamp": 1585563543988,
     "user": {
      "displayName": "XCIENCIA PROJECTS",
      "photoUrl": "https://lh3.googleusercontent.com/a-/AOh14GhSbiRKs-qal6qFP48hBdKSf67dqnntdycVMfU1=s64",
      "userId": "06995631013121649714"
     },
     "user_tz": -330
    },
    "id": "QqWPdd6R7-PT",
    "outputId": "103ec3fd-2729-4f74-9733-ebd32b94860c"
   },
   "outputs": [
    {
     "name": "stdout",
     "output_type": "stream",
     "text": [
      "enter State_Name:1\n",
      "enter District_Name:1\n",
      "enter Crop_Year:2021\n",
      "enter Season:1\n",
      "enter Crop1\n",
      "enter Temperature:35\n"
     ]
    }
   ],
   "source": [
    "State_Name = float(input('enter State_Name:'))\n",
    "District_Name = float(input('enter District_Name:'))\n",
    "Crop_Year = float(input('enter Crop_Year:')) \n",
    "Season = float(input('enter Season:'))\n",
    "Crop = float(input('enter Crop'))\n",
    "Temperature = float(input('enter Temperature:'))\n",
    "humidity = float(input('enter humidity:')) \n",
    "soil_moisture = float(input('enter soil_moisture:'))\n",
    "area = float(input('enter area:'))\n",
    "\n",
    "p_n = clf.predict([[State_Name,District_Name,Crop_Year,Season,Crop,Temperature,humidity,soil_moisture,area]])\n",
    "print('Production:',p_n[0])"
   ]
  },
  {
   "cell_type": "markdown",
   "metadata": {
    "colab_type": "text",
    "id": "dWiPRcn9yuGH"
   },
   "source": [
    "# Fertilizer prediction"
   ]
  },
  {
   "cell_type": "code",
   "execution_count": 2,
   "metadata": {
    "colab": {},
    "colab_type": "code",
    "id": "pgJrdZKniIuI"
   },
   "outputs": [],
   "source": [
    "data_1 = pd.read_csv('fertilizer.csv')"
   ]
  },
  {
   "cell_type": "code",
   "execution_count": 3,
   "metadata": {
    "colab": {
     "base_uri": "https://localhost:8080/",
     "height": 419
    },
    "colab_type": "code",
    "executionInfo": {
     "elapsed": 819,
     "status": "ok",
     "timestamp": 1585563566328,
     "user": {
      "displayName": "XCIENCIA PROJECTS",
      "photoUrl": "https://lh3.googleusercontent.com/a-/AOh14GhSbiRKs-qal6qFP48hBdKSf67dqnntdycVMfU1=s64",
      "userId": "06995631013121649714"
     },
     "user_tz": -330
    },
    "id": "9ihfI__ny0FB",
    "outputId": "55cf4d71-3d18-4337-9e50-4b4287c647d7"
   },
   "outputs": [
    {
     "data": {
      "text/html": [
       "<div>\n",
       "<style scoped>\n",
       "    .dataframe tbody tr th:only-of-type {\n",
       "        vertical-align: middle;\n",
       "    }\n",
       "\n",
       "    .dataframe tbody tr th {\n",
       "        vertical-align: top;\n",
       "    }\n",
       "\n",
       "    .dataframe thead th {\n",
       "        text-align: right;\n",
       "    }\n",
       "</style>\n",
       "<table border=\"1\" class=\"dataframe\">\n",
       "  <thead>\n",
       "    <tr style=\"text-align: right;\">\n",
       "      <th></th>\n",
       "      <th>n</th>\n",
       "      <th>p</th>\n",
       "      <th>k</th>\n",
       "      <th>amt of n</th>\n",
       "      <th>amt of p</th>\n",
       "      <th>amt of k</th>\n",
       "    </tr>\n",
       "  </thead>\n",
       "  <tbody>\n",
       "    <tr>\n",
       "      <th>0</th>\n",
       "      <td>3</td>\n",
       "      <td>5</td>\n",
       "      <td>6</td>\n",
       "      <td>64</td>\n",
       "      <td>50</td>\n",
       "      <td>60</td>\n",
       "    </tr>\n",
       "    <tr>\n",
       "      <th>1</th>\n",
       "      <td>1</td>\n",
       "      <td>4</td>\n",
       "      <td>2</td>\n",
       "      <td>40</td>\n",
       "      <td>46</td>\n",
       "      <td>30</td>\n",
       "    </tr>\n",
       "    <tr>\n",
       "      <th>2</th>\n",
       "      <td>5</td>\n",
       "      <td>1</td>\n",
       "      <td>5</td>\n",
       "      <td>93</td>\n",
       "      <td>16</td>\n",
       "      <td>32</td>\n",
       "    </tr>\n",
       "    <tr>\n",
       "      <th>3</th>\n",
       "      <td>3</td>\n",
       "      <td>1</td>\n",
       "      <td>3</td>\n",
       "      <td>63</td>\n",
       "      <td>20</td>\n",
       "      <td>39</td>\n",
       "    </tr>\n",
       "    <tr>\n",
       "      <th>4</th>\n",
       "      <td>4</td>\n",
       "      <td>6</td>\n",
       "      <td>6</td>\n",
       "      <td>87</td>\n",
       "      <td>37</td>\n",
       "      <td>39</td>\n",
       "    </tr>\n",
       "    <tr>\n",
       "      <th>...</th>\n",
       "      <td>...</td>\n",
       "      <td>...</td>\n",
       "      <td>...</td>\n",
       "      <td>...</td>\n",
       "      <td>...</td>\n",
       "      <td>...</td>\n",
       "    </tr>\n",
       "    <tr>\n",
       "      <th>3235</th>\n",
       "      <td>1</td>\n",
       "      <td>4</td>\n",
       "      <td>2</td>\n",
       "      <td>40</td>\n",
       "      <td>46</td>\n",
       "      <td>30</td>\n",
       "    </tr>\n",
       "    <tr>\n",
       "      <th>3236</th>\n",
       "      <td>5</td>\n",
       "      <td>1</td>\n",
       "      <td>5</td>\n",
       "      <td>93</td>\n",
       "      <td>16</td>\n",
       "      <td>32</td>\n",
       "    </tr>\n",
       "    <tr>\n",
       "      <th>3237</th>\n",
       "      <td>3</td>\n",
       "      <td>1</td>\n",
       "      <td>3</td>\n",
       "      <td>63</td>\n",
       "      <td>20</td>\n",
       "      <td>39</td>\n",
       "    </tr>\n",
       "    <tr>\n",
       "      <th>3238</th>\n",
       "      <td>4</td>\n",
       "      <td>6</td>\n",
       "      <td>6</td>\n",
       "      <td>87</td>\n",
       "      <td>37</td>\n",
       "      <td>39</td>\n",
       "    </tr>\n",
       "    <tr>\n",
       "      <th>3239</th>\n",
       "      <td>2</td>\n",
       "      <td>1</td>\n",
       "      <td>1</td>\n",
       "      <td>65</td>\n",
       "      <td>19</td>\n",
       "      <td>32</td>\n",
       "    </tr>\n",
       "  </tbody>\n",
       "</table>\n",
       "<p>3240 rows × 6 columns</p>\n",
       "</div>"
      ],
      "text/plain": [
       "      n  p  k  amt of n  amt of p  amt of k\n",
       "0     3  5  6        64        50        60\n",
       "1     1  4  2        40        46        30\n",
       "2     5  1  5        93        16        32\n",
       "3     3  1  3        63        20        39\n",
       "4     4  6  6        87        37        39\n",
       "...  .. .. ..       ...       ...       ...\n",
       "3235  1  4  2        40        46        30\n",
       "3236  5  1  5        93        16        32\n",
       "3237  3  1  3        63        20        39\n",
       "3238  4  6  6        87        37        39\n",
       "3239  2  1  1        65        19        32\n",
       "\n",
       "[3240 rows x 6 columns]"
      ]
     },
     "execution_count": 3,
     "metadata": {},
     "output_type": "execute_result"
    }
   ],
   "source": [
    "data_1"
   ]
  },
  {
   "cell_type": "code",
   "execution_count": 4,
   "metadata": {
    "colab": {},
    "colab_type": "code",
    "id": "i5-KStpWy1US"
   },
   "outputs": [],
   "source": [
    "n = data_1.iloc[:,0:1]\n",
    "p = data_1.iloc[:,1:2]\n",
    "k = data_1.iloc[:,2:3]\n",
    "amt_n = data_1.iloc[:,3:4]\n",
    "amt_p = data_1.iloc[:,4:5]\n",
    "amt_k = data_1.iloc[:,5:6]"
   ]
  },
  {
   "cell_type": "code",
   "execution_count": 5,
   "metadata": {
    "colab": {},
    "colab_type": "code",
    "id": "QplJs1M9y3TM"
   },
   "outputs": [],
   "source": [
    "from sklearn.model_selection import train_test_split\n",
    "#from sklearn.cross_validation import train_test_split\n",
    "X_n_train , X_n_test , y_n_train , y_n_test = train_test_split(n,amt_n,test_size=0.2,random_state=100)"
   ]
  },
  {
   "cell_type": "code",
   "execution_count": 6,
   "metadata": {
    "colab": {},
    "colab_type": "code",
    "id": "cN5ACU_Ky5DJ"
   },
   "outputs": [],
   "source": [
    "X_p_train , X_p_test , y_p_train , y_p_test = train_test_split(p,amt_p,test_size=0.2,random_state=100)"
   ]
  },
  {
   "cell_type": "code",
   "execution_count": 7,
   "metadata": {
    "colab": {},
    "colab_type": "code",
    "id": "cvVqpmrdzC0m"
   },
   "outputs": [],
   "source": [
    "X_k_train , X_k_test , y_k_train , y_k_test = train_test_split(k,amt_k,test_size=0.2,random_state=100)"
   ]
  },
  {
   "cell_type": "code",
   "execution_count": 8,
   "metadata": {
    "colab": {
     "base_uri": "https://localhost:8080/",
     "height": 207
    },
    "colab_type": "code",
    "executionInfo": {
     "elapsed": 1047,
     "status": "ok",
     "timestamp": 1585563574071,
     "user": {
      "displayName": "XCIENCIA PROJECTS",
      "photoUrl": "https://lh3.googleusercontent.com/a-/AOh14GhSbiRKs-qal6qFP48hBdKSf67dqnntdycVMfU1=s64",
      "userId": "06995631013121649714"
     },
     "user_tz": -330
    },
    "id": "w-SHB6ZGzEty",
    "outputId": "7d5d210a-1767-40f3-e3ae-01ac4606c949"
   },
   "outputs": [
    {
     "name": "stderr",
     "output_type": "stream",
     "text": [
      "C:\\Anaconda\\lib\\site-packages\\sklearn\\utils\\validation.py:72: DataConversionWarning: A column-vector y was passed when a 1d array was expected. Please change the shape of y to (n_samples, ), for example using ravel().\n",
      "  return f(**kwargs)\n"
     ]
    },
    {
     "data": {
      "text/plain": [
       "-2742.505238290881"
      ]
     },
     "execution_count": 8,
     "metadata": {},
     "output_type": "execute_result"
    }
   ],
   "source": [
    "from sklearn.neural_network import MLPRegressor\n",
    "clf_n = MLPRegressor(solver='lbfgs', alpha=1e-5,hidden_layer_sizes=(5, 2), random_state=1)\n",
    "clf_n.fit(X_n_train, y_n_train)\n",
    "y_n_pred = clf_n.predict(X_n_test)\n",
    "clf_n.score(y_n_test,y_n_pred)"
   ]
  },
  {
   "cell_type": "code",
   "execution_count": 9,
   "metadata": {
    "colab": {
     "base_uri": "https://localhost:8080/",
     "height": 88
    },
    "colab_type": "code",
    "executionInfo": {
     "elapsed": 2687,
     "status": "ok",
     "timestamp": 1585563614887,
     "user": {
      "displayName": "XCIENCIA PROJECTS",
      "photoUrl": "https://lh3.googleusercontent.com/a-/AOh14GhSbiRKs-qal6qFP48hBdKSf67dqnntdycVMfU1=s64",
      "userId": "06995631013121649714"
     },
     "user_tz": -330
    },
    "id": "e42cbXrJ0WZR",
    "outputId": "2c64f112-9f92-4a8b-9311-adf9b2ccacc7"
   },
   "outputs": [
    {
     "name": "stderr",
     "output_type": "stream",
     "text": [
      "C:\\Anaconda\\lib\\site-packages\\sklearn\\utils\\validation.py:72: DataConversionWarning: A column-vector y was passed when a 1d array was expected. Please change the shape of y to (n_samples, ), for example using ravel().\n",
      "  return f(**kwargs)\n"
     ]
    },
    {
     "data": {
      "text/plain": [
       "-26.664247741735245"
      ]
     },
     "execution_count": 9,
     "metadata": {},
     "output_type": "execute_result"
    }
   ],
   "source": [
    "clf_p = MLPRegressor(solver='lbfgs', alpha=1e-5,hidden_layer_sizes=(5, 2), random_state=1)\n",
    "clf_p.fit(X_p_train, y_p_train)\n",
    "y_p_pred = clf_n.predict(X_p_test)\n",
    "clf_p.score(y_p_test,y_p_pred)"
   ]
  },
  {
   "cell_type": "code",
   "execution_count": 10,
   "metadata": {
    "colab": {
     "base_uri": "https://localhost:8080/",
     "height": 88
    },
    "colab_type": "code",
    "executionInfo": {
     "elapsed": 1462,
     "status": "ok",
     "timestamp": 1585561436157,
     "user": {
      "displayName": "XCIENCIA PROJECTS",
      "photoUrl": "https://lh3.googleusercontent.com/a-/AOh14GhSbiRKs-qal6qFP48hBdKSf67dqnntdycVMfU1=s64",
      "userId": "06995631013121649714"
     },
     "user_tz": -330
    },
    "id": "NecBEz850hG1",
    "outputId": "3ba1c662-9884-4155-c158-bbe7dd9757dc",
    "scrolled": false
   },
   "outputs": [
    {
     "name": "stderr",
     "output_type": "stream",
     "text": [
      "C:\\Anaconda\\lib\\site-packages\\sklearn\\utils\\validation.py:72: DataConversionWarning: A column-vector y was passed when a 1d array was expected. Please change the shape of y to (n_samples, ), for example using ravel().\n",
      "  return f(**kwargs)\n"
     ]
    },
    {
     "data": {
      "text/plain": [
       "-7.982635771390013"
      ]
     },
     "execution_count": 10,
     "metadata": {},
     "output_type": "execute_result"
    }
   ],
   "source": [
    "clf_k = MLPRegressor(solver='lbfgs', alpha=1e-5,hidden_layer_sizes=(5, 2), random_state=1)\n",
    "clf_k.fit(X_k_train, y_k_train)\n",
    "y_k_pred = clf_n.predict(X_k_test)\n",
    "clf_k.score(y_k_test,y_k_pred)"
   ]
  },
  {
   "cell_type": "code",
   "execution_count": 14,
   "metadata": {
    "colab": {
     "base_uri": "https://localhost:8080/",
     "height": 119
    },
    "colab_type": "code",
    "executionInfo": {
     "elapsed": 19191,
     "status": "ok",
     "timestamp": 1585561649424,
     "user": {
      "displayName": "XCIENCIA PROJECTS",
      "photoUrl": "https://lh3.googleusercontent.com/a-/AOh14GhSbiRKs-qal6qFP48hBdKSf67dqnntdycVMfU1=s64",
      "userId": "06995631013121649714"
     },
     "user_tz": -330
    },
    "id": "0ueVoTNR03mg",
    "outputId": "98173bcf-3bdf-4c26-9227-f3bdf3ab496a",
    "scrolled": false
   },
   "outputs": [
    {
     "name": "stdout",
     "output_type": "stream",
     "text": [
      "enter nitrogen:5\n",
      "enter posporus:1\n",
      "enter pottasium:4\n",
      "Amount of nitrogen Fertizer: 94.22616724224173\n",
      "Amount of posporus Fertizer: 19.988896701983244\n",
      "Amount of pottasium Fertizer: 39.119515332548616\n"
     ]
    }
   ],
   "source": [
    "n_i = int(input('enter nitrogen:'))\n",
    "p_i = int(input('enter phosphorus:'))\n",
    "k_i = int(input('enter Potassium:'))\n",
    "p_n = clf_n.predict([[n_i]])\n",
    "p_p = clf_p.predict([[p_i]])\n",
    "p_k = clf_k.predict([[k_i]])\n",
    "print('Amount of nitrogen Fertilizer:',p_n[0])\n",
    "print('Amount of phosphorus Fertilizer:',p_p[0])\n",
    "print('Amount of Potassium Fertilizer:',p_k[0])"
   ]
  },
  {
   "cell_type": "code",
   "execution_count": 15,
   "metadata": {
    "colab": {},
    "colab_type": "code",
    "id": "w_vr3YIg1Hm5"
   },
   "outputs": [],
   "source": [
    "from tkinter import *\n",
    "from tkinter import ttk\n",
    "\n",
    "root = Tk()\n",
    "root.title('Crop Yield Prediction System')\n",
    "root.geometry('850x650')\n",
    "root.configure(background=\"RosyBrown1\")\n",
    "var = StringVar()\n",
    "label = Label( root, textvariable = var,font=('arial',20,'bold'),bd=20,background=\"RosyBrown1\")\n",
    "var.set('Crop Yield Prediction System')\n",
    "label.grid(row=0,columnspan=6)\n",
    "\n",
    "\n",
    "\n",
    "label_1 = ttk.Label(root, text ='state',font=(\"Helvetica\", 16),background=\"RosyBrown1\")\n",
    "label_1.grid(row=11,column=0)\n",
    "    \n",
    "#Entry_1= Entry(root)\n",
    "#Entry_1.grid(row=11,column=1)\n",
    "\n",
    "options_state = StringVar(root)\n",
    "options_state.set(\"Select Option\") # default value\n",
    "    \n",
    "    \n",
    "om1 = ttk.OptionMenu(root, options_state,'Andaman and Nicobar Islands','Andhra Pradesh',\n",
    "       'Arunachal Pradesh', 'Assam', 'Bihar', 'Chandigarh',\n",
    "       'Chhattisgarh')\n",
    "om1.grid(row=11, column=1) \n",
    "\n",
    "\n",
    "label_2 = ttk.Label(root, text ='district',font=(\"Helvetica\", 16),background=\"RosyBrown1\")\n",
    "label_2.grid(row=12,column=0)\n",
    "    \n",
    "#Entry_2 = Entry(root)\n",
    "#Entry_2.grid(row=12,column=1)\n",
    "    \n",
    "options_city = StringVar(root)\n",
    "options_city.set(\"Select Option\") # default value\n",
    "    \n",
    "om1 = ttk.OptionMenu(root, options_city, 'NICOBARS', 'NORTH AND MIDDLE ANDAMAN', 'SOUTH ANDAMANS',\n",
    "       'ANANTAPUR', 'CHITTOOR', 'EAST GODAVARI', 'GUNTUR', 'KADAPA',\n",
    "       'KRISHNA', 'KURNOOL')\n",
    "om1.grid(row=12, column=1) \n",
    "    \n",
    "label_3 = ttk.Label(root, text ='year',font=(\"Helvetica\", 16),background=\"RosyBrown1\")\n",
    "label_3.grid(row=13,column=0)\n",
    "    \n",
    "Entry_3 = Entry(root)\n",
    "Entry_3.grid(row=13,column=1)\n",
    "\n",
    "label_4 = ttk.Label(root, text ='season',font=(\"Helvetica\", 16),background=\"RosyBrown1\")\n",
    "label_4.grid(row=14,column=0)\n",
    "    \n",
    "Entry_4= Entry(root)\n",
    "Entry_4.grid(row=14,column=1)\n",
    "\n",
    "label_5 = ttk.Label(root, text ='crop',font=(\"Helvetica\", 16),background=\"RosyBrown1\")\n",
    "label_5.grid(row=15,column=0)\n",
    "    \n",
    "Entry_5 = Entry(root)\n",
    "Entry_5.grid(row=15,column=1)\n",
    "    \n",
    "    \n",
    "label_6 = ttk.Label(root, text ='Temperature',font=(\"Helvetica\", 16),background=\"RosyBrown1\")\n",
    "label_6.grid(row=16,column=0)\n",
    "    \n",
    "Entry_6 = Entry(root)\n",
    "Entry_6.grid(row=16,column=1)\n",
    "\n",
    "label_7 = ttk.Label(root, text ='humidity',font=(\"Helvetica\", 16),background=\"RosyBrown1\")\n",
    "label_7.grid(row=17,column=0)\n",
    "    \n",
    "Entry_7= Entry(root)\n",
    "Entry_7.grid(row=17,column=1)\n",
    "\n",
    "label_8 = ttk.Label(root, text ='soilmoisture',font=(\"Helvetica\", 16),background=\"RosyBrown1\")\n",
    "label_8.grid(row=18,column=0)\n",
    "\n",
    "Entry_8 = Entry(root)\n",
    "Entry_8.grid(row=18,column=1)\n",
    "    \n",
    "    \n",
    "label_9 = ttk.Label(root, text ='area',font=(\"Helvetica\", 16),background=\"RosyBrown1\")\n",
    "label_9.grid(row=19,column=0)\n",
    "    \n",
    "Entry_9 = Entry(root)\n",
    "Entry_9.grid(row=19,column=1)\n",
    "\n",
    "\n",
    "def predict():\n",
    "    state = options_state.get()#Entry_1.get()\n",
    "    if state == 'Andaman and Nicobar Islands':\n",
    "        state = 0\n",
    "    elif state == 'Andhra Pradesh':\n",
    "        state = 1\n",
    "    elif state == 'Arunachal Pradesh':\n",
    "        state = 2\n",
    "    elif state == 'Assam':\n",
    "        state = 3\n",
    "    elif state == 'Bihar':\n",
    "        state = 4\n",
    "    elif state == 'Chandigarh':\n",
    "        state = 5\n",
    "    elif state == 'Chhattisgarh':\n",
    "        state = 6\n",
    "    district = options_city.get()\n",
    "    if district == 'NICOBARS':\n",
    "        district = 0\n",
    "    elif district == 'NORTH AND MIDDLE ANDAMAN':\n",
    "        district = 1\n",
    "    elif district == 'SOUTH ANDAMANS':\n",
    "        district = 2\n",
    "    elif district == 'ANANTAPUR':\n",
    "        district = 3\n",
    "    elif district == 'CHITTOOR':\n",
    "        district = 4\n",
    "    elif district =='EAST GODAVARI':\n",
    "        district = 5\n",
    "    elif district == 'GUNTUR':\n",
    "        district = 6\n",
    "    elif district == 'KADAPA':\n",
    "        district = 7\n",
    "    elif district == 'KRISHNA':\n",
    "        district = 8\n",
    "    elif district == 'KURNOOL':\n",
    "        district = 9\n",
    "    \n",
    "    print(state,district)\n",
    "    year = Entry_3.get()\n",
    "    season = Entry_4.get()\n",
    "    crop = Entry_5.get()\n",
    "    Temperature = Entry_6.get()\n",
    "    humidity = Entry_7.get()\n",
    "    soilmoisture = Entry_8.get()\n",
    "    area = Entry_9.get()\n",
    "    out = forest.predict([[float(state),\n",
    "       float(district),\n",
    "       float(year),\n",
    "       float(season),\n",
    "       float(crop),\n",
    "       float(Temperature),\n",
    "       float(humidity),\n",
    "       float(soilmoisture),\n",
    "       float(area)]])\n",
    "    \n",
    "    output.delete(0,END)\n",
    "    output.insert(0,out[0])\n",
    "b1 = Button(root, text = 'predict',font=(\"Helvetica\", 16),background=\"RosyBrown1\",command = predict)\n",
    "b1.grid(row=20,column=0)\n",
    "    \n",
    "\n",
    "output = Entry(root)\n",
    "output.grid(row=20,column=1)\n",
    "    \n",
    "root.mainloop()"
   ]
  },
  {
   "cell_type": "code",
   "execution_count": null,
   "metadata": {},
   "outputs": [
    {
     "ename": "",
     "evalue": "",
     "output_type": "error",
     "traceback": [
      "\u001b[1;31mRunning cells with 'c:\\Users\\hemant_nirmalkar\\AppData\\Local\\Programs\\Python\\Python310\\python.exe' requires the ipykernel package.\n",
      "\u001b[1;31mRun the following command to install 'ipykernel' into the Python environment. \n",
      "\u001b[1;31mCommand: 'c:/Users/hemant_nirmalkar/AppData/Local/Programs/Python/Python310/python.exe -m pip install ipykernel -U --user --force-reinstall'"
     ]
    }
   ],
   "source": [
    "# from tkinter import *\n",
    "from tkinter import ttk\n",
    "\n",
    "root = Tk()\n",
    "root.title('fertilizer Prediction System')\n",
    "root.geometry('850x650')\n",
    "root.configure(background=\"RosyBrown1\")\n",
    "var = StringVar()\n",
    "label = Label( root, textvariable = var,font=('arial',20,'bold'),bd=20,background=\"RosyBrown1\")\n",
    "var.set('fertilizer Prediction System')\n",
    "label.grid(row=0,columnspan=6)\n",
    "\n",
    "\n",
    "\n",
    "label_1 = ttk.Label(root, text ='nitrogen',font=(\"Helvetica\", 16),background=\"RosyBrown1\")\n",
    "label_1.grid(row=11,column=0)\n",
    "    \n",
    "Entry_1= Entry(root)\n",
    "Entry_1.grid(row=11,column=1)\n",
    "\n",
    "label_2 = ttk.Label(root, text ='phosphorus',font=(\"Helvetica\", 16),background=\"RosyBrown1\")\n",
    "label_2.grid(row=12,column=0)\n",
    "    \n",
    "Entry_2 = Entry(root)\n",
    "Entry_2.grid(row=12,column=1)\n",
    "    \n",
    "    \n",
    "label_3 = ttk.Label(root, text ='pottasium',font=(\"Helvetica\", 16),background=\"RosyBrown1\")\n",
    "label_3.grid(row=13,column=0)\n",
    "    \n",
    "Entry_3 = Entry(root)\n",
    "Entry_3.grid(row=13,column=1)\n",
    "\n",
    "\n",
    "\n",
    "\n",
    "def predict():\n",
    "    n_i = Entry_1.get()\n",
    "    p_i = Entry_2.get()\n",
    "    k_i = Entry_3.get()\n",
    "\n",
    "    p_n = clf_n.predict([[float(n_i)]])\n",
    "    p_p = clf_p.predict([[float(p_i)]])\n",
    "    p_k = clf_k.predict([[float(k_i)]])\n",
    "    print('Amount of nitrogen Fertilizer required:',p_n)\n",
    "    print('Amount of phosphorus Fertilizer required:',p_p)\n",
    "    print('Amount of nitrogen Fertilizer required:',p_k)\n",
    "    \n",
    "    s = \"\"\"Amount of nitrogen Fertilizer required:{}\\nAmount of phosphorus Fertilizer required:{}\\nAmount of nitrogen Fertilizer required:{}\"\"\".format(p_n[0],p_p[0],p_k[0])\n",
    "    \n",
    "    \n",
    "    if p_n[0] < 50 and p_p < 30 and p_k < 40 :\n",
    "        print('DIAMMONIUM PHOSPHATE fertilizer')\n",
    "        s = 'DIAMMONIUM PHOSPHATE fertilizer'\n",
    "    elif p_n[0] < 100 and p_p < 30 and p_k < 40  :\n",
    "        print('NPK')\n",
    "        s = 'NPK'\n",
    "    elif p_n[0] < 150 and p_p < 50 and p_k < 40  :\n",
    "        print('Potassium nitrate')\n",
    "        s = 'Potassium nitrate'\n",
    "    elif p_n[0] < 50 and p_p < 30 and p_k < 40  :\n",
    "        print('sea weed fertilizer')\n",
    "        s = 'sea weed fertilizer'\n",
    "    else:\n",
    "        print('fish emulation fertilizer')\n",
    "        s = 'fish emulation fertilizer'\n",
    "        \n",
    "    output.delete('1.0',END)\n",
    "    output.insert('1.0',s)\n",
    "   \n",
    "\n",
    "b1 = Button(root, text = 'predict',font=(\"Helvetica\", 16),background=\"RosyBrown1\",command = predict)\n",
    "b1.grid(row=20,column=0)\n",
    "    \n",
    "\n",
    "output = Text(root)\n",
    "output.grid(row=20,column=1)\n",
    "    \n",
    "root.mainloop()\n"
   ]
  },
  {
   "cell_type": "code",
   "execution_count": null,
   "metadata": {},
   "outputs": [],
   "source": []
  }
 ],
 "metadata": {
  "colab": {
   "name": "crop yield prediction using rf and ann with fertilizer .ipynb",
   "provenance": []
  },
  "kernelspec": {
   "display_name": "Python 3",
   "language": "python",
   "name": "python3"
  },
  "language_info": {
   "codemirror_mode": {
    "name": "ipython",
    "version": 3
   },
   "file_extension": ".py",
   "mimetype": "text/x-python",
   "name": "python",
   "nbconvert_exporter": "python",
   "pygments_lexer": "ipython3",
   "version": "3.10.8"
  }
 },
 "nbformat": 4,
 "nbformat_minor": 1
}
